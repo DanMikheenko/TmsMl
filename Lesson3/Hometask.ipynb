{
  "nbformat": 4,
  "nbformat_minor": 0,
  "metadata": {
    "colab": {
      "provenance": []
    },
    "kernelspec": {
      "name": "python3",
      "display_name": "Python 3"
    },
    "language_info": {
      "name": "python"
    }
  },
  "cells": [
    {
      "cell_type": "code",
      "execution_count": 79,
      "metadata": {
        "id": "hdqhXD2j6fMn"
      },
      "outputs": [],
      "source": [
        "class Money:\n",
        "    def __init__(self, dollars: int, cents: int = 0) -> None:\n",
        "        total = dollars * 100 + cents\n",
        "        self.dollars: int = total // 100\n",
        "        self.cents: int = total % 100\n",
        "        self.total_cents: int = total\n",
        "\n",
        "    def __add__(self, other: \"Money\") -> \"Money\":\n",
        "        return Money(0, self.total_cents + other.total_cents)\n",
        "\n",
        "    def __sub__(self, other: \"Money\") -> \"Money\":\n",
        "        result = self.total_cents - other.total_cents\n",
        "        if result < 0:\n",
        "            raise ValueError(\"Результат не может быть отрицательным\")\n",
        "        return Money(0, result)\n",
        "\n",
        "    def __str__(self) -> str:\n",
        "        return f\"${self.dollars},{self.cents:02d}\"\n",
        "\n",
        "    def __truediv__(self, other: object) -> \"Money | float\":\n",
        "        if isinstance(other, (int, float)):\n",
        "            total = round(self.total_cents / other)\n",
        "            return Money(0, total)\n",
        "        elif isinstance(other, Money):\n",
        "            return self.total_cents / other.total_cents\n",
        "        else:\n",
        "            raise TypeError(\"Делить можно только на число или Money\")\n",
        "\n",
        "    def __mul__(self, other: object) -> \"Money\":\n",
        "        if isinstance(other, (int, float)):\n",
        "            return Money(0, round(self.total_cents * other))\n",
        "        elif isinstance(other, Money):\n",
        "            total = round((self.total_cents * other.total_cents) / 100)\n",
        "            return Money(0, total)\n",
        "        else:\n",
        "            raise TypeError(\"Умножать можно только на число или Money\")\n",
        "\n",
        "    def __eq__(self, other: object) -> bool:\n",
        "        return isinstance(other, Money) and self.total_cents == other.total_cents\n",
        "\n",
        "    def __ne__(self, other: object) -> bool:\n",
        "        return isinstance(other, Money) and self.total_cents != other.total_cents\n",
        "\n",
        "    def __lt__(self, other: \"Money\") -> bool:\n",
        "        return self.total_cents < other.total_cents\n",
        "\n",
        "    def __le__(self, other: \"Money\") -> bool:\n",
        "        return self.total_cents <= other.total_cents\n",
        "\n",
        "    def __gt__(self, other: \"Money\") -> bool:\n",
        "        return self.total_cents > other.total_cents\n",
        "\n",
        "    def __ge__(self, other: \"Money\") -> bool:\n",
        "        return self.total_cents >= other.total_cents"
      ]
    },
    {
      "cell_type": "code",
      "source": [
        "m1 = Money(2, 75)\n",
        "m2 = Money(3, 50)\n",
        "\n",
        "print(m1)\n",
        "print(m2)\n",
        "print(m1 + m2)"
      ],
      "metadata": {
        "colab": {
          "base_uri": "https://localhost:8080/"
        },
        "id": "htII3DEon2PU",
        "outputId": "da24863d-8765-4260-f01a-4c8e5b887289"
      },
      "execution_count": 80,
      "outputs": [
        {
          "output_type": "stream",
          "name": "stdout",
          "text": [
            "$2,75\n",
            "$3,50\n",
            "$6,25\n"
          ]
        }
      ]
    },
    {
      "cell_type": "code",
      "source": [
        "print(m2 - m1)"
      ],
      "metadata": {
        "colab": {
          "base_uri": "https://localhost:8080/"
        },
        "id": "JvjvqcRjpImP",
        "outputId": "46ae4fe1-88d8-441d-c402-ae695b1eb041"
      },
      "execution_count": 81,
      "outputs": [
        {
          "output_type": "stream",
          "name": "stdout",
          "text": [
            "$0,75\n"
          ]
        }
      ]
    },
    {
      "cell_type": "code",
      "source": [
        "print(m1 / 1.5)"
      ],
      "metadata": {
        "colab": {
          "base_uri": "https://localhost:8080/"
        },
        "id": "0jqA4UxGqKgy",
        "outputId": "9038ef5d-7c74-4065-9e2a-c2f664c88741"
      },
      "execution_count": 82,
      "outputs": [
        {
          "output_type": "stream",
          "name": "stdout",
          "text": [
            "$1,83\n"
          ]
        }
      ]
    },
    {
      "cell_type": "code",
      "source": [
        "print(m1 / m2)"
      ],
      "metadata": {
        "colab": {
          "base_uri": "https://localhost:8080/"
        },
        "id": "WIiUCmZzqXtz",
        "outputId": "5250f336-2d51-4049-aa87-4d5659584544"
      },
      "execution_count": 83,
      "outputs": [
        {
          "output_type": "stream",
          "name": "stdout",
          "text": [
            "0.7857142857142857\n"
          ]
        }
      ]
    },
    {
      "cell_type": "code",
      "source": [
        "print(m1 * m2)"
      ],
      "metadata": {
        "colab": {
          "base_uri": "https://localhost:8080/"
        },
        "id": "U5ZL2u7JrzP_",
        "outputId": "cc96d300-ff3a-45cb-cc30-6896e017f681"
      },
      "execution_count": 84,
      "outputs": [
        {
          "output_type": "stream",
          "name": "stdout",
          "text": [
            "$9,62\n"
          ]
        }
      ]
    },
    {
      "cell_type": "code",
      "source": [
        "print(m2!=m1)"
      ],
      "metadata": {
        "colab": {
          "base_uri": "https://localhost:8080/"
        },
        "id": "9-9qNGK3swSI",
        "outputId": "dd511a25-e7f7-4929-ef34-a182177a1be8"
      },
      "execution_count": 85,
      "outputs": [
        {
          "output_type": "stream",
          "name": "stdout",
          "text": [
            "True\n"
          ]
        }
      ]
    }
  ]
}