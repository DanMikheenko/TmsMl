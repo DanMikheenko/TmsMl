{
 "cells": [
  {
   "cell_type": "markdown",
   "id": "b9797c98",
   "metadata": {},
   "source": [
    "Задание:\n",
    "1. Анализ датасета в разрезе людей и семей\n",
    "2. Написать функцию, которая в качестве параметра будет принимать данные нового пассажира и выдавать вероятность выживания (использовать любые мл и дл алгоритмы нельзя)"
   ]
  },
  {
   "cell_type": "code",
   "execution_count": 45,
   "id": "eb24eedd",
   "metadata": {},
   "outputs": [
    {
     "name": "stdout",
     "output_type": "stream",
     "text": [
      "<class 'pandas.core.frame.DataFrame'>\n",
      "RangeIndex: 891 entries, 0 to 890\n",
      "Data columns (total 12 columns):\n",
      " #   Column       Non-Null Count  Dtype  \n",
      "---  ------       --------------  -----  \n",
      " 0   PassengerId  891 non-null    int64  \n",
      " 1   Survived     891 non-null    int64  \n",
      " 2   Pclass       891 non-null    int64  \n",
      " 3   Name         891 non-null    object \n",
      " 4   Sex          891 non-null    object \n",
      " 5   Age          714 non-null    float64\n",
      " 6   SibSp        891 non-null    int64  \n",
      " 7   Parch        891 non-null    int64  \n",
      " 8   Ticket       891 non-null    object \n",
      " 9   Fare         891 non-null    float64\n",
      " 10  Cabin        204 non-null    object \n",
      " 11  Embarked     889 non-null    object \n",
      "dtypes: float64(2), int64(5), object(5)\n",
      "memory usage: 83.7+ KB\n"
     ]
    }
   ],
   "source": [
    "import pandas as pd\n",
    "\n",
    "df = pd.read_csv('data_tms.csv')\n",
    "df.info()"
   ]
  },
  {
   "cell_type": "code",
   "execution_count": 46,
   "id": "5f5fdc27",
   "metadata": {},
   "outputs": [
    {
     "data": {
      "text/plain": [
       "PassengerId      0\n",
       "Survived         0\n",
       "Pclass           0\n",
       "Name             0\n",
       "Sex              0\n",
       "Age            177\n",
       "SibSp            0\n",
       "Parch            0\n",
       "Ticket           0\n",
       "Fare             0\n",
       "Cabin          687\n",
       "Embarked         2\n",
       "dtype: int64"
      ]
     },
     "execution_count": 46,
     "metadata": {},
     "output_type": "execute_result"
    }
   ],
   "source": [
    "df.isnull().sum()"
   ]
  },
  {
   "cell_type": "code",
   "execution_count": 47,
   "id": "46cc6fc7",
   "metadata": {},
   "outputs": [
    {
     "name": "stderr",
     "output_type": "stream",
     "text": [
      "/var/folders/2h/tbxv3m5d0lq0_rb87yxcpm0m0000gn/T/ipykernel_20545/1995340483.py:2: FutureWarning: A value is trying to be set on a copy of a DataFrame or Series through chained assignment using an inplace method.\n",
      "The behavior will change in pandas 3.0. This inplace method will never work because the intermediate object on which we are setting values always behaves as a copy.\n",
      "\n",
      "For example, when doing 'df[col].method(value, inplace=True)', try using 'df.method({col: value}, inplace=True)' or df[col] = df[col].method(value) instead, to perform the operation inplace on the original object.\n",
      "\n",
      "\n",
      "  df['Age'].fillna(round(df['Age'].mean(), 2), inplace=True)\n"
     ]
    }
   ],
   "source": [
    "round(df['Age'].mean(), 2)\n",
    "df['Age'].fillna(round(df['Age'].mean(), 2), inplace=True)"
   ]
  },
  {
   "cell_type": "code",
   "execution_count": 48,
   "id": "15ffac9c",
   "metadata": {},
   "outputs": [
    {
     "data": {
      "text/plain": [
       "count    891.000000\n",
       "mean      29.699293\n",
       "std       13.002015\n",
       "min        0.420000\n",
       "25%       22.000000\n",
       "50%       29.700000\n",
       "75%       35.000000\n",
       "max       80.000000\n",
       "Name: Age, dtype: float64"
      ]
     },
     "execution_count": 48,
     "metadata": {},
     "output_type": "execute_result"
    }
   ],
   "source": [
    "df['Age'].describe()"
   ]
  },
  {
   "cell_type": "code",
   "execution_count": 49,
   "id": "c7f4f285",
   "metadata": {},
   "outputs": [
    {
     "data": {
      "image/png": "[encoded data removed]",
      "text/plain": [
       "<Figure size 640x480 with 1 Axes>"
      ]
     },
     "metadata": {},
     "output_type": "display_data"
    }
   ],
   "source": [
    "import matplotlib.pyplot as plt\n",
    "df['Age'].hist(bins=20)\n",
    "plt.xlabel('Возраст')\n",
    "plt.ylabel('Количество людей')\n",
    "plt.title('Распределение возраста')\n",
    "plt.show()"
   ]
  },
  {
   "cell_type": "code",
   "execution_count": 50,
   "id": "6a50770c",
   "metadata": {},
   "outputs": [
    {
     "data": {
      "text/plain": [
       "Survived\n",
       "0    30.415301\n",
       "1    28.549912\n",
       "Name: Age, dtype: float64"
      ]
     },
     "execution_count": 50,
     "metadata": {},
     "output_type": "execute_result"
    }
   ],
   "source": [
    "df.groupby('Survived')['Age'].mean()"
   ]
  },
  {
   "cell_type": "code",
   "execution_count": 51,
   "id": "d7f50f55",
   "metadata": {},
   "outputs": [
    {
     "data": {
      "text/plain": [
       "FamilySize\n",
       "1     537\n",
       "2     161\n",
       "3     102\n",
       "4      29\n",
       "6      22\n",
       "5      15\n",
       "7      12\n",
       "11      7\n",
       "8       6\n",
       "Name: count, dtype: int64"
      ]
     },
     "execution_count": 51,
     "metadata": {},
     "output_type": "execute_result"
    }
   ],
   "source": [
    "df['FamilySize'] = df['SibSp'] + df['Parch'] + 1\n",
    "df['FamilySize'].value_counts()"
   ]
  },
  {
   "cell_type": "code",
   "execution_count": 52,
   "id": "b1e75013",
   "metadata": {},
   "outputs": [
    {
     "data": {
      "text/plain": [
       "FamilySize\n",
       "1     0.303538\n",
       "2     0.552795\n",
       "3     0.578431\n",
       "4     0.724138\n",
       "5     0.200000\n",
       "6     0.136364\n",
       "7     0.333333\n",
       "8     0.000000\n",
       "11    0.000000\n",
       "Name: Survived, dtype: float64"
      ]
     },
     "execution_count": 52,
     "metadata": {},
     "output_type": "execute_result"
    }
   ],
   "source": [
    "df.groupby('FamilySize')['Survived'].mean()"
   ]
  },
  {
   "cell_type": "code",
   "execution_count": 53,
   "id": "f50ecba3",
   "metadata": {},
   "outputs": [
    {
     "data": {
      "image/png": "[encoded data removed]",
      "text/plain": [
       "<Figure size 640x480 with 1 Axes>"
      ]
     },
     "metadata": {},
     "output_type": "display_data"
    }
   ],
   "source": [
    "import matplotlib.pyplot as plt\n",
    "df.groupby('FamilySize')['Survived'].mean().plot(kind='bar')\n",
    "plt.xlabel('Размер семьи')\n",
    "plt.ylabel('Доля выживших')\n",
    "plt.title('Выживаемость в зависимости от размера семьи')\n",
    "plt.show()"
   ]
  },
  {
   "cell_type": "code",
   "execution_count": 54,
   "id": "dcba7ace",
   "metadata": {},
   "outputs": [
    {
     "data": {
      "image/png": "[encoded data removed]",
      "text/plain": [
       "<Figure size 640x480 with 1 Axes>"
      ]
     },
     "metadata": {},
     "output_type": "display_data"
    }
   ],
   "source": [
    "df.groupby('Pclass')['Survived'].mean().plot(kind='bar')\n",
    "plt.xlabel('Класс на корабле')\n",
    "plt.ylabel('Доля выживших')\n",
    "plt.title('Выживаемость в зависимости от класса на корабле')\n",
    "plt.show()"
   ]
  },
  {
   "cell_type": "code",
   "execution_count": 55,
   "id": "2f3057d0",
   "metadata": {},
   "outputs": [
    {
     "data": {
      "image/png": "[encoded data removed]",
      "text/plain": [
       "<Figure size 640x480 with 1 Axes>"
      ]
     },
     "metadata": {},
     "output_type": "display_data"
    }
   ],
   "source": [
    "df.groupby('Sex')['Survived'].mean().plot(kind='bar')\n",
    "plt.xlabel('Пол')\n",
    "plt.ylabel('Доля выживших')\n",
    "plt.title('Выживаемость в зависимости от пола')\n",
    "plt.show()"
   ]
  },
  {
   "cell_type": "code",
   "execution_count": 56,
   "id": "dfa62575",
   "metadata": {},
   "outputs": [
    {
     "data": {
      "text/plain": [
       "np.float64(0.3838383838383838)"
      ]
     },
     "execution_count": 56,
     "metadata": {},
     "output_type": "execute_result"
    }
   ],
   "source": [
    "df['Survived'].mean()"
   ]
  },
  {
   "cell_type": "code",
   "execution_count": 57,
   "id": "7d4e65c2",
   "metadata": {},
   "outputs": [
    {
     "data": {
      "text/plain": [
       "Pclass\n",
       "1    0.629630\n",
       "2    0.472826\n",
       "3    0.242363\n",
       "Name: Survived, dtype: float64"
      ]
     },
     "execution_count": 57,
     "metadata": {},
     "output_type": "execute_result"
    }
   ],
   "source": [
    "df.groupby('Pclass')['Survived'].mean()"
   ]
  },
  {
   "cell_type": "code",
   "execution_count": 58,
   "id": "ddd8ab12",
   "metadata": {},
   "outputs": [
    {
     "data": {
      "text/plain": [
       "Sex\n",
       "female    0.742038\n",
       "male      0.188908\n",
       "Name: Survived, dtype: float64"
      ]
     },
     "execution_count": 58,
     "metadata": {},
     "output_type": "execute_result"
    }
   ],
   "source": [
    "df.groupby('Sex')['Survived'].mean()"
   ]
  },
  {
   "cell_type": "code",
   "execution_count": 59,
   "id": "3ee2b410",
   "metadata": {},
   "outputs": [
    {
     "name": "stdout",
     "output_type": "stream",
     "text": [
      "Базовая вероятность выживания: 0.38\n"
     ]
    }
   ],
   "source": [
    "base_prob = round(df['Survived'].mean(), 2)\n",
    "print(f\"Базовая вероятность выживания: {base_prob}\")"
   ]
  },
  {
   "cell_type": "code",
   "execution_count": 60,
   "id": "a4226e6f",
   "metadata": {},
   "outputs": [
    {
     "name": "stdout",
     "output_type": "stream",
     "text": [
      "Коэфициент выживания по классам: {1: 0.24962962962962965, 2: 0.09282608695652173, 3: -0.13763747454175154}\n"
     ]
    }
   ],
   "source": [
    "pclass_coef = df.groupby('Pclass')['Survived'].mean() - base_prob\n",
    "print(f\"Коэфициент выживания по классам: {pclass_coef.to_dict()}\")"
   ]
  },
  {
   "cell_type": "code",
   "execution_count": 61,
   "id": "d1a0eb44",
   "metadata": {},
   "outputs": [
    {
     "name": "stdout",
     "output_type": "stream",
     "text": [
      "Коэфициент выживания по полу: {'female': 0.3620382165605095, 'male': -0.19109185441941076}\n"
     ]
    }
   ],
   "source": [
    "sex_coef = df.groupby('Sex')['Survived'].mean() - base_prob\n",
    "print(f\"Коэфициент выживания по полу: {sex_coef.to_dict()}\")"
   ]
  },
  {
   "cell_type": "code",
   "execution_count": 62,
   "id": "87fbe6df",
   "metadata": {},
   "outputs": [
    {
     "name": "stdout",
     "output_type": "stream",
     "text": [
      "Коэфициент выживания по возрастным группам: {'child': 0.17000000000000004, 'adult': -0.013289986996098846, 'senior': -0.15272727272727274}\n"
     ]
    },
    {
     "name": "stderr",
     "output_type": "stream",
     "text": [
      "/var/folders/2h/tbxv3m5d0lq0_rb87yxcpm0m0000gn/T/ipykernel_20545/3336756330.py:2: FutureWarning: The default of observed=False is deprecated and will be changed to True in a future version of pandas. Pass observed=False to retain current behavior or observed=True to adopt the future default and silence this warning.\n",
      "  age_coef = df.groupby('AgeGroup')['Survived'].mean() - base_prob\n"
     ]
    }
   ],
   "source": [
    "df['AgeGroup'] = pd.cut(df['Age'], bins=[0, 16, 60, 100], labels=['child', 'adult', 'senior'])\n",
    "age_coef = df.groupby('AgeGroup')['Survived'].mean() - base_prob\n",
    "print(f\"Коэфициент выживания по возрастным группам: {age_coef.to_dict()}\")"
   ]
  },
  {
   "cell_type": "code",
   "execution_count": 63,
   "id": "ed8eeec7",
   "metadata": {},
   "outputs": [
    {
     "name": "stdout",
     "output_type": "stream",
     "text": [
      "Коэфициент выживания по размеру семьи: {1: -0.07646182495344506, 2: 0.17279503105590066, 3: 0.19843137254901966, 4: 0.34413793103448276, 5: -0.18, 6: -0.24363636363636365, 7: -0.04666666666666669, 8: -0.38, 11: -0.38}\n"
     ]
    }
   ],
   "source": [
    "df['FamilySize'] = df['SibSp'] + df['Parch'] + 1\n",
    "family_coef = df.groupby('FamilySize')['Survived'].mean() - base_prob\n",
    "print(f\"Коэфициент выживания по размеру семьи: {family_coef.to_dict()}\")"
   ]
  },
  {
   "cell_type": "code",
   "execution_count": 64,
   "id": "4269d01b",
   "metadata": {},
   "outputs": [],
   "source": [
    "def predict_survival_chance(pclass: int, sex: str, age: float, sibsp: int, parch: int) -> float:\n",
    "    \"\"\"\n",
    "    Прогнозирует вероятность выживания пассажира на основе исходных данных.\n",
    "\n",
    "    ARGS:\n",
    "        pcclass: int - класс пассажира (1, 2, 3)\n",
    "        sex: str - пол пассажира (male, female)\n",
    "        age: float - возраст пассажира\n",
    "        sibsp: int - количество братьев/сестер/супругов на борту\n",
    "        parch: int - количество родителей/детей на борту\n",
    "    \n",
    "    Returns:\n",
    "        float - вероятность выживания (от 0 до 1)\n",
    "    \"\"\"\n",
    "\n",
    "    prob = base_prob\n",
    "\n",
    "    if pclass in pclass_coef:\n",
    "        prob += pclass_coef[pclass]\n",
    "\n",
    "    \n",
    "    if sex in sex_coef:\n",
    "        prob += sex_coef[sex]\n",
    "\n",
    "    \n",
    "    if age < 16:\n",
    "        group = 'child'\n",
    "    elif age > 60:\n",
    "        group = 'senior'\n",
    "    else:\n",
    "        group = 'adult'\n",
    "    if group in age_coef:\n",
    "        prob += age_coef[group]\n",
    "\n",
    "    \n",
    "    family_size = sibsp + parch + 1\n",
    "    if family_size in family_coef:\n",
    "        prob += family_coef[family_size]\n",
    "\n",
    "    prob = max(0, min(1, prob))\n",
    "    return round(prob, 2)\n"
   ]
  },
  {
   "cell_type": "code",
   "execution_count": 65,
   "id": "4321b239",
   "metadata": {},
   "outputs": [
    {
     "data": {
      "text/plain": [
       "np.float64(0.35)"
      ]
     },
     "execution_count": 65,
     "metadata": {},
     "output_type": "execute_result"
    }
   ],
   "source": [
    "predict_survival_chance(1, 'male', 25, 0, 0)"
   ]
  },
  {
   "cell_type": "code",
   "execution_count": 66,
   "id": "ca17d154",
   "metadata": {},
   "outputs": [
    {
     "data": {
      "text/plain": [
       "np.float64(0.9)"
      ]
     },
     "execution_count": 66,
     "metadata": {},
     "output_type": "execute_result"
    }
   ],
   "source": [
    "predict_survival_chance(1, 'female', 25, 0, 0)"
   ]
  },
  {
   "cell_type": "code",
   "execution_count": 69,
   "id": "33b619a0",
   "metadata": {},
   "outputs": [
    {
     "data": {
      "text/plain": [
       "np.float64(0.14)"
      ]
     },
     "execution_count": 69,
     "metadata": {},
     "output_type": "execute_result"
    }
   ],
   "source": [
    "predict_survival_chance(3, 'male', 4, 0, 0)"
   ]
  }
 ],
 "metadata": {
  "kernelspec": {
   "display_name": "base",
   "language": "python",
   "name": "python3"
  },
  "language_info": {
   "codemirror_mode": {
    "name": "ipython",
    "version": 3
   },
   "file_extension": ".py",
   "mimetype": "text/x-python",
   "name": "python",
   "nbconvert_exporter": "python",
   "pygments_lexer": "ipython3",
   "version": "3.13.5"
  }
 },
 "nbformat": 4,
 "nbformat_minor": 5
}
