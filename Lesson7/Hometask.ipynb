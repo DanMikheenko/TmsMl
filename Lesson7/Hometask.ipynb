{
 "cells": [
  {
   "cell_type": "code",
   "execution_count": 194,
   "id": "1743fcd0",
   "metadata": {},
   "outputs": [],
   "source": [
    "%matplotlib inline\n",
    "import matplotlib.pyplot as plt\n",
    "import pandas as pd\n",
    "import numpy as np\n",
    "\n",
    "from sklearn.linear_model import LinearRegression\n",
    "from sklearn.preprocessing import scale"
   ]
  },
  {
   "cell_type": "code",
   "execution_count": 195,
   "id": "16a2276c",
   "metadata": {},
   "outputs": [],
   "source": [
    "df = pd.read_csv('BostonHousing2.csv')\n",
    "df = df.dropna()"
   ]
  },
  {
   "cell_type": "code",
   "execution_count": 196,
   "id": "50853414",
   "metadata": {},
   "outputs": [
    {
     "name": "stdout",
     "output_type": "stream",
     "text": [
      "Смещение по оси Y = 22.561277445109784\n",
      "Коэффициент при crim: -0.9369479588496202\n",
      "Коэффициент при zn: 1.0638795439746898\n",
      "Коэффициент при indus: 0.0960199812896175\n",
      "Коэффициент при chas: 0.6799342485066063\n",
      "Коэффициент при nox: -2.099093378994031\n",
      "Коэффициент при rm: 2.665259399074607\n",
      "Коэффициент при age: 0.0554827326824389\n",
      "Коэффициент при dis: -3.1126566507044324\n",
      "Коэффициент при rad: 2.6691311762884666\n",
      "Коэффициент при tax: -2.0639978316308007\n",
      "Коэффициент при ptratio: -2.09090708742805\n",
      "Коэффициент при b: 0.8536178307970478\n",
      "Коэффициент при lstat: -3.7467648461339156\n"
     ]
    }
   ],
   "source": [
    "X = df.drop('medv', axis=1)  # Все признаки кроме целевой (цена на недвижку)\n",
    "lin_reg = LinearRegression()\n",
    "lin_reg.fit(X_scaled, df['medv'])\n",
    "print(f\"Смещение по оси Y = {lin_reg.intercept_}\")\n",
    "for feature, coef in zip(X.columns, lin_reg.coef_):\n",
    "    print(f\"Коэффициент при {feature}: {coef}\")"
   ]
  },
  {
   "cell_type": "markdown",
   "id": "f863235d",
   "metadata": {},
   "source": [
    "Ниже пробую найти все коэфициенты уравнения вручную через градиентный спуск"
   ]
  },
  {
   "cell_type": "code",
   "execution_count": 197,
   "id": "6d919f91",
   "metadata": {},
   "outputs": [],
   "source": [
    "# загружаем данные, очищаем от пропусков\n",
    "df = pd.read_csv('BostonHousing2.csv')\n",
    "df = df.dropna()"
   ]
  },
  {
   "cell_type": "code",
   "execution_count": 198,
   "id": "0fa91c05",
   "metadata": {},
   "outputs": [],
   "source": [
    "# выделяем из столбцов датафрейма признаки и целевую переменную\n",
    "# (medv - медианная цена домов Y, а все остальное - это иксы X)\n",
    "X = df.drop('medv', axis=1).values\n",
    "y = df['medv'].values"
   ]
  },
  {
   "cell_type": "markdown",
   "id": "be913020",
   "metadata": {},
   "source": [
    "Для работы с градиентным спуском масштабируем признаки (вроде должно ускорить процесс нахождения точки минимума).\n",
    "Как я понял, X_scaled это такая же матрица признаков, просто все значения сведены к одному порядку, чтобы коэфициенты были сопоставимы."
   ]
  },
  {
   "cell_type": "code",
   "execution_count": 199,
   "id": "2294f55b",
   "metadata": {},
   "outputs": [],
   "source": [
    "X_mean = X.mean(axis=0) # среднее отклонение по каждому признаку\n",
    "X_std = X.std(axis=0) # стандартное отклонение по каждому признаку\n",
    "X_scaled = (X - X_mean) / X_std"
   ]
  },
  {
   "cell_type": "code",
   "execution_count": 200,
   "id": "919ad69d",
   "metadata": {},
   "outputs": [],
   "source": [
    "X_b = np.c_[np.ones((X_scaled.shape[0], 1)), X_scaled] # добавляем столбец для свободного члена (смещение по Y)"
   ]
  },
  {
   "cell_type": "code",
   "execution_count": 201,
   "id": "3133c36f",
   "metadata": {},
   "outputs": [],
   "source": [
    "# настраиваем параметры градиентного спуска\n",
    "n_samples, n_features = X_b.shape # число строк и столбцов\n",
    "theta = np.zeros(n_features) # инициализируем коэффициенты нулями\n",
    "alpha = 0.1  # скорость обучения\n",
    "n_iter = 1000 # количество итераций"
   ]
  },
  {
   "cell_type": "code",
   "execution_count": null,
   "id": "92a42df4",
   "metadata": {},
   "outputs": [],
   "source": [
    "# выполняем градиентный спуск\n",
    "for i in range(n_iter):\n",
    "    y_pred = X_b @ theta # получаем наше предсказание перемножением матриц\n",
    "\n",
    "    # (y_pred - y) - вектор ошибок\n",
    "    # gradient это по сути частная производная функции по каждому из коэфициентов\n",
    "    # X_b.T - транспонированная матрица признаков (меняем строки и столбцы местами). Если этого не делать выкидыввает ошибку (не сходится размерность матриц)\n",
    "    gradient = (2 / n_samples) * X_b.T @ (y_pred - y) # по идее если значение градиента стремится к нулю, то мы в точке минимума функции и можем остановиться\n",
    "    # наверно надо сделать какое-то условие остановки\n",
    "    theta -= alpha * gradient # обновляем коэфициенты и движемся в сторону минимума функции"
   ]
  },
  {
   "cell_type": "code",
   "execution_count": 203,
   "id": "fd7a68d8",
   "metadata": {},
   "outputs": [
    {
     "name": "stdout",
     "output_type": "stream",
     "text": [
      "Коэффициент при intercept: 22.56127744510978\n",
      "Коэффициент при crim: -0.9369475211502927\n",
      "Коэффициент при zn: 1.0638787869181892\n",
      "Коэффициент при indus: 0.09601759637147739\n",
      "Коэффициент при chas: 0.679934591002348\n",
      "Коэффициент при nox: -2.099092994101317\n",
      "Коэффициент при rm: 2.665259825353438\n",
      "Коэффициент при age: 0.055482363884627815\n",
      "Коэффициент при dis: -3.1126568806924384\n",
      "Коэффициент при rad: 2.6691251027387057\n",
      "Коэффициент при tax: -2.063990940098634\n",
      "Коэффициент при ptratio: -2.090906861487952\n",
      "Коэффициент при b: 0.8536177859581849\n",
      "Коэффициент при lstat: -3.7467646190482164\n"
     ]
    }
   ],
   "source": [
    "for feature, coef in zip(['intercept'] + list(df.drop('medv', axis=1).columns), theta):\n",
    "    print(f\"Коэффициент при {feature}: {coef}\")\n"
   ]
  },
  {
   "cell_type": "code",
   "execution_count": null,
   "id": "c207b64f",
   "metadata": {},
   "outputs": [],
   "source": [
    "#Вывод: значение более-менее совпадают с результатами sklearn, но не совсем."
   ]
  }
 ],
 "metadata": {
  "kernelspec": {
   "display_name": "base",
   "language": "python",
   "name": "python3"
  },
  "language_info": {
   "codemirror_mode": {
    "name": "ipython",
    "version": 3
   },
   "file_extension": ".py",
   "mimetype": "text/x-python",
   "name": "python",
   "nbconvert_exporter": "python",
   "pygments_lexer": "ipython3",
   "version": "3.13.5"
  }
 },
 "nbformat": 4,
 "nbformat_minor": 5
}
